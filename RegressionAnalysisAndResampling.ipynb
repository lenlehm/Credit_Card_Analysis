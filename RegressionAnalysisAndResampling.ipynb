{
 "cells": [
  {
   "cell_type": "markdown",
   "metadata": {},
   "source": [
    "# FYS-STK4155 Project #1 - Regression Analysis\n",
    "\n",
    "Evaluation of Project number: 1 <br />\n",
    "Name: Lennart Lehmann (ERASMUS Student)\n",
    "\n",
    "## Abstract \n",
    "\n",
    "In this project we parameterize digital terrain data by using three different regression algorithms: <br /> \n",
    "**1.) Linear Regression / Ordinary Least Squares (OLS)** <br />\n",
    "**2.) Ridge Regression** <br />\n",
    "**3.) Lasso Regression** <br />\n",
    "Utilizing Cross-Validation as resampling technique to judge the bias and variance of the different models. <br /> \n",
    "We find that the OLS method scores the best for our underlying data, followed by the Lasso Regression and ending up last with the Ridge Regression.\n",
    "Displaying the bias-variance tradeoff reveals that we our model is mostly dominated in the bias area and the variance basically no effect on the mean error.\n",
    "\n",
    "## Introduction\n",
    "\n",
    "Linear regression methods are fundamental in the field of statistical modelling. In the simplest\n",
    "variant of regression analysis modelling a response dependent on some predictor variables\n",
    "a linear ansatz is assumed for the relasionship between response and predictors. The\n",
    "ansatz is linear in the sense of a linear combination of (possibly non-linear) functions of a single\n",
    "predictor. This linearity allows the matrix-vector equations resulting from minimizing the\n",
    "error between the observed data (targets) and the predicted model data to be solved, which\n",
    "is the main advantage of the method (and the main reason why linear regression is extensively\n",
    "used today). In the modern society, data is ubiquitous and abundant. However, with an ever increasing volume\n",
    "of data availability, drawing sensible conclusions about the relasionships between variables\n",
    "is non-trivial. Suppose you were given a complete set of statistics about every school\n",
    "district in Norway: The grade point average (and indeed individual grades) of every single\n",
    "student, the size and composition (in terms of nationalities, gender, height, weight, etc.) of every\n",
    "class, a full description of the teaching load of every teacher, as well as their personal data,\n",
    "educational history, and work history. Such a data set might be readily available, but drawing\n",
    "conclusions from it is not easy. Say e.g. that you wanted to know if increasing the number of\n",
    "teachers per pupil would result in overall better grades. Or a more complex question what\n",
    "is the most efficient way to increase the overall grades of students?\n",
    "Such questions pertaining to relationships between data of varying types are possible to answer\n",
    "using regression analysis, and bound on the statistical significance of the answers are possible\n",
    "to find. In the following, we will consider a much simpler toy problem as a simple introduction\n",
    "to the topic: Fitting a real valued function of two real variables. We will start out by considering\n",
    "the theory behind linear regression.\n",
    "\n",
    "This dataset included 102.234 transactions for each single feature. So we have an overall Matrix $\\boldsymbol{X}$ of the shape $ X \\in {\\rm I\\!R^{n\\times p}}$ <br /> \n",
    "\n",
    "$$\n",
    "\\mathbf{X} =\n",
    "      \\begin{bmatrix} x_{1,1} & x_{1,2} & ... & x_{1,p} \\\\\n",
    "                                 x_{2,1} & x_{2,2} & ... & x_{2,p} \\\\\n",
    "                                   \\vdots & \\ddots & \\ddots & \\vdots \\\\\n",
    "                                  x_{n,1} & x_{n,2} & ... & x_{n,p}\n",
    "             \\end{bmatrix}\\qquad \n",
    "$$\n",
    "\n",
    "\n",
    "## Formalism\n",
    "\n",
    "Within the scope of this project we used the three aforementioned techniques to accomplish our goal.\n",
    "We will dive into the theory behind those algorithms and implement them afterwards accordingly.\n",
    "<br /> \n",
    "\n",
    "### Ordinary Least Squares (OLS)\n",
    "\n",
    "Considering a case with $p$ predictors and of $n$ measured samples. Along we have the target $y$, a vector of size *n*: $\\boldsymbol{y} =[y_1, y_2,\\dots, y_{n}]^T$. The predictors are organized in a matrix $\\boldsymbol{X}$, called *design matrix*, with the shape $\\boldsymbol{X}\\in {\\mathbb{R}}^{n\\times p}$\n",
    "In regression we want to construct a function <br /> \n",
    "\n",
    "$$\n",
    "\\boldsymbol{y} = \\boldsymbol{X}\\beta + \\epsilon \\tag{1}\n",
    "$$\n",
    "\n",
    "where $\\epsilon$ denotes a zero mean normal distributed noise of our linear model. \n",
    "$\\beta$ is an unknown vector that counts to estimate in the regression problem. <br /> \n",
    "\n",
    "The objective function (also known as Cost function) of linear regression is thus the best possible linear fit  <br />\n",
    "\n",
    "$$\n",
    " C(\\boldsymbol{X}, \\boldsymbol{\\beta})= \\frac{1}{n}\\left\\{(\\boldsymbol{X}\\boldsymbol{\\beta} - \\boldsymbol{y})^T(\\boldsymbol{X}\\boldsymbol{\\beta} - \\boldsymbol{y})\\right\\}. \\tag{2}\n",
    "$$\n",
    "\n",
    "By minimizing the Mean of Squared Errors (MSE): <br />\n",
    "\n",
    "$$\n",
    "{\\displaystyle \\min_{\\boldsymbol{\\beta}\\in\n",
    "{\\mathbb{R}}^{p}}}\\frac{1}{n}\\left\\{\\left(\\boldsymbol{y}-\\boldsymbol{X}\\boldsymbol{\\beta}\\right)^T\\left(\\boldsymbol{y}-\\boldsymbol{X}\\boldsymbol{\\beta}\\right)\\right\\}. \\tag{3}\n",
    "$$\n",
    "\n",
    "### Ridge Regression\n",
    "\n",
    "Considering the Objective function from Linear Regression, which is the Mean Squarred Error (MSE), we could also express it as follows: <br />\n",
    "\n",
    "$$\n",
    "{\\displaystyle \\min_{\\boldsymbol{\\beta}\\in\n",
    "{\\mathbb{R}}^{p}}}\\frac{1}{n}\\sum_{i=0}^{n-1}\\left(y_i-\\tilde{y}_i\\right)^2=\\frac{1}{n}\\vert\\vert \\boldsymbol{y}-\\boldsymbol{X}\\boldsymbol{\\beta}\\vert\\vert_2^2, \\tag{4}\n",
    "$$\n",
    "\n",
    "We can further simplify it with the expression of the norm-2 vector (a.k.a $L^2$ regularization): <br />\n",
    "\n",
    "$$\n",
    "\\vert\\vert \\boldsymbol{x}\\vert\\vert_2 = \\sqrt{\\sum_i x_i^2}. \\tag{5}\n",
    "$$\n",
    "\n",
    "By adding a regularization parameter $\\lambda$, that keeps the weights from taking abnormous values and help to fight against overfitting, we obtain <br />\n",
    "In ridge regression we include a **regularizer**. This involves a new cost function which leads to a new estimate for the weights $\\boldsymbol{\\beta}$. This results in a penalized regression problem. The cost function is given by: <br />\n",
    "\n",
    "$$\n",
    "{\\displaystyle \\min_{\\boldsymbol{\\beta}\\in\n",
    "{\\mathbb{R}}^{p}}}\\frac{1}{n}\\vert\\vert \\boldsymbol{y}-\\boldsymbol{X}\\boldsymbol{\\beta}\\vert\\vert_2^2+\\lambda\\vert\\vert \\boldsymbol{\\beta}\\vert\\vert_2^2 \\tag{6}\n",
    "$$\n",
    "\n",
    "This leads to our new optimization equation: <br />\n",
    "\n",
    "$$\n",
    "{\\displaystyle \\min_{\\boldsymbol{\\beta}\\in\n",
    "{\\mathbb{R}}^{p}}}\\frac{1}{n}\\vert\\vert \\boldsymbol{y}-\\boldsymbol{X}\\boldsymbol{\\beta}\\vert\\vert_2^2+\\lambda\\vert\\vert \\boldsymbol{\\beta}\\vert\\vert_1 \\tag{7}\n",
    "$$\n",
    "\n",
    "\n",
    "### Lasso Regression\n",
    "\n",
    "Lasso Regression is very similiar to Ridge Regression, **but** instead of taking the $L^2$ regularization, Lasso utilizes the $L^1$ regularization, which is defined as follows: <br />\n",
    "\n",
    "$$\n",
    "\\vert\\vert \\boldsymbol{x}\\vert\\vert_1 = \\sum_i \\vert x_i\\vert. \\tag{8}\n",
    "$$\n",
    "\n",
    "Hence, our optimization equation is just a slight twist to our known Ridge Regression to eventually obtain the following Lasso Regression: <br />\n",
    "\n",
    "$$\n",
    "{\\displaystyle \\min_{\\boldsymbol{\\beta}\\in\n",
    "{\\mathbb{R}}^{p}}}\\frac{1}{n}\\vert\\vert \\boldsymbol{y}-\\boldsymbol{X}\\boldsymbol{\\beta}\\vert\\vert_2^2+\\lambda\\vert\\vert \\boldsymbol{\\beta}\\vert\\vert_1 \\tag{9}\n",
    "$$\n",
    "\n",
    "In the **Least Absolute Shrinkage and Selection Operator** (LASSO)-method we obtain a third cost function. <br />\n",
    "$$\n",
    "\\begin{equation}\n",
    "    C(\\boldsymbol{X}, \\boldsymbol{\\beta}; \\lambda) = (\\boldsymbol{X}\\boldsymbol{\\beta} - \\boldsymbol{y})^T(\\boldsymbol{X}\\boldsymbol{\\beta} - \\boldsymbol{y}) + \\lambda \\sqrt{\\boldsymbol{\\beta}^T\\boldsymbol{\\beta}}.\n",
    "\\label{_auto22} \\tag{10}\n",
    "\\end{equation}\n",
    "$$\n",
    "\n",
    "### Resampling methods\n",
    "\n",
    "Resampling methods are crucial in Machine learning, especially when dealing with limited amount of data. <br />\n",
    "The main idea behind resampling is to repeatedly draw (different) samples from the dataset and split those accrodingly into test - and training data. Every single run a model gets fitted on the training data set and eventually evaluated with its test dataset. The final output will then be the average of the testing accuracy of all performed runs. <br />\n",
    "However, this nice feature comes to the cost of computation. Since models have to be fitted every single time and evaluated on different subsets of the data, resampling methods such as *k-fold Cross Validation* or *Bootstrapping* are computationally\n",
    "expensive. <br />\n",
    "*Bootstrapping* is a statistical technique for estimating quantities about a population by taking averages over estimates from several smaller data samples. <br />\n",
    "Those samples are constructed by drawing random observations from a large data sample (usually the training set in Machine Learning) with replacement. <br />\n",
    "By taking repeatedly small samples of a population, the bootstrap resampling method calculates the statistics (Mean Squarred Error (MSE), bias, variance) of those samples. This will result in an indication of the appropriate order of model complexity. <br />\n",
    "\n",
    "#### Cross- Validation\n",
    "\n",
    "Cross-Validation is used to split the entire data into 2 groups, calles *training* and *test data*. A model's performance is always evaluated on the *test data* by calculating the accuracy metrics on this data set with the given targets and model's predictions. <br />\n",
    "By splitting the entire data into *k-even subsets* (where $k \\in [1, 2, ..., n]$), we obtain a training dataset of size *k-1* subsets and one subset of test data. This technique is calles *k-fold Cross Validation*. <br /> \n",
    "Afterwards each single subset will be once used as test data which will in turn lead to *k* runs of the exact same model (same hyperparameters) but different training and test data for each run. Hence, each run returns a test error on its underlying test data. By averaging the test errors by the *k* number of runs, we obtain the final model accuracy.<br /> \n",
    "Thus, *Cross-Validation* is used to asses the performance of a given model. <br />\n",
    "\n",
    "### Terrain Data\n",
    "\n",
    "We were given a dataset containing an area of Tinn, Norway with its land surface topology and a resolution of roughly 30m (1 arc-second).  <br> \n",
    "The data was retrieved from U.S. Department of the Interior U.S. Geological Survey's (USGS) EarthExplorer [1] website. <br />\n",
    "USGS stores data from the Shuttle Radar Topography Mission (SRTM), which maps the earth's land surface topology with the aforementioned resolution. <br />\n",
    "This project will use SRTM data taken from the EarthExplorer website as the foundation of the terrain parametrization. The specific terrain data we will use in the present project is taken from the Mosvatn Austfjell area in the municipality of Tinn in Telemark county, Norway. A visual representation of the data is shown in Fig. 1. <br />\n",
    "\n",
    "\n",
    "#### Franke's Function\n",
    "\n",
    "The [Franke function](http://www.dtic.mil/dtic/tr/fulltext/u2/a081688.pdf) was originally developed to test and rate different surface interpolation techniques.\n",
    "\n",
    "The Franke function, which is a weighted sum of four exponentials reads as follows: <br />\n",
    "\n",
    "$$\n",
    "\\begin{align*}\n",
    "f(x,y) &= \\frac{3}{4}\\exp{\\left(-\\frac{(9x-2)^2}{4} - \\frac{(9y-2)^2}{4}\\right)}+\\frac{3}{4}\\exp{\\left(-\\frac{(9x+1)^2}{49}- \\frac{(9y+1)}{10}\\right)} \\\\\n",
    "&+\\frac{1}{2}\\exp{\\left(-\\frac{(9x-7)^2}{4} - \\frac{(9y-3)^2}{4}\\right)} -\\frac{1}{5}\\exp{\\left(-(9x-4)^2 - (9y-7)^2\\right) }.\n",
    "\\end{align*} \\tag{11}\n",
    "$$\n",
    "\n",
    "The function will be defined for $x,y\\in [0,1]$.\n",
    "\n",
    "\n",
    "\n",
    "## Code and Implementation\n",
    "*Readability of Code, Implementation and testing and discussion of Benchmarks*"
   ]
  },
  {
   "cell_type": "code",
   "execution_count": 3,
   "metadata": {},
   "outputs": [
    {
     "data": {
      "image/png": "[encoded data removed]",
      "text/plain": [
       "<matplotlib.figure.Figure at 0x1d8bc87cf28>"
      ]
     },
     "metadata": {
      "needs_background": "light"
     },
     "output_type": "display_data"
    }
   ],
   "source": [
    "# Franke Function\n",
    "from mpl_toolkits.mplot3d import Axes3D\n",
    "import matplotlib.pyplot as plt\n",
    "from matplotlib import cm\n",
    "from matplotlib.ticker import LinearLocator, FormatStrFormatter\n",
    "import numpy as np\n",
    "from random import random, seed\n",
    "\n",
    "fig = plt.figure()\n",
    "ax = fig.gca(projection='3d')\n",
    "\n",
    "# Make data.\n",
    "x = np.arange(0, 1, 0.05)\n",
    "y = np.arange(0, 1, 0.05)\n",
    "x, y = np.meshgrid(x,y)\n",
    "\n",
    "\n",
    "def FrankeFunction(x,y):\n",
    "    term1 = 0.75*np.exp(-(0.25*(9*x-2)**2) - 0.25*((9*y-2)**2))\n",
    "    term2 = 0.75*np.exp(-((9*x+1)**2)/49.0 - 0.1*(9*y+1))\n",
    "    term3 = 0.5*np.exp(-(9*x-7)**2/4.0 - 0.25*((9*y-3)**2))\n",
    "    term4 = -0.2*np.exp(-(9*x-4)**2 - (9*y-7)**2)\n",
    "    return term1 + term2 + term3 + term4\n",
    "\n",
    "\n",
    "z = FrankeFunction(x, y)\n",
    "\n",
    "# Plot the surface.\n",
    "surf = ax.plot_surface(x, y, z, cmap=cm.coolwarm,\n",
    "                       linewidth=0, antialiased=False)\n",
    "\n",
    "# Customize the z axis.\n",
    "ax.set_zlim(-0.10, 1.20)\n",
    "ax.zaxis.set_major_locator(LinearLocator(10))\n",
    "ax.zaxis.set_major_formatter(FormatStrFormatter('%.02f'))\n",
    "\n",
    "# Add a color bar which maps values to colors.\n",
    "fig.colorbar(surf, shrink=0.5, aspect=5)\n",
    "\n",
    "plt.show()"
   ]
  },
  {
   "cell_type": "code",
   "execution_count": null,
   "metadata": {
    "collapsed": true
   },
   "outputs": [],
   "source": [
    "# Least Squares \n",
    "import numpy as np\n",
    "from sklearn import linear_model, metrics\n",
    "\n",
    "def OLSFit(X, y):\n",
    "'''\n",
    "        Performs the ordinary linear regression fit using the *from scratch* \n",
    "        implementation. The matrix calculation performed corresponds to \n",
    "                ╭   T   ╮-1  T\n",
    "            β = │ X   X │   X  y,\n",
    "                ╰       ╯  \n",
    "        where b is the vector of beta values, Xt denotes the tranpose of X and \n",
    "        inv(A) is the inverse of the matrix A.\n",
    "        If the matrix Xt X is found to be too singular to numerically invert, \n",
    "        a SVD is used to perform the fit, as \n",
    "                   ╭   ╮-1  T\n",
    "            β =  V │ Σ │   U  y\n",
    "                   ╰   ╯   \n",
    "'''\n",
    "\n",
    "    U,S,Vt = np.linalg.svd(X, full_matrices=True)\n",
    "    S_inverse = np.zeros(shape=X.shape)\n",
    "    S_inverse[:S.shape[0], :S.shape[0]] = np.diag(1.0 / S)\n",
    "    beta = np.dot(Vt.T, np.dot(S_inverse.T, np.dot(U.T, y)))\n",
    "    return np.dot(X, beta) # prediction\n",
    "    \n",
    "def ridge(X, y):\n",
    "    beta = np.dot(np.linalg.inv(np.dot(np.transpose(X),X) + self.lambda_ * np.eye(X.shape[1])), np.dot(np.transpose(X),y))\n",
    "    return np.dot(X, beta) # prediction\n",
    "\n",
    "def scipyRidge(lamda, X, y) :\n",
    "    if lamda == None :\n",
    "        raise ValueError(\"No lambda value set for Ridge regression.\")\n",
    "    regression = linear_model.Ridge(fit_intercept=True, alpha=self.lambda_)\n",
    "    regression.fit(X,y)\n",
    "    beta = regression.coef_\n",
    "    beta[0] = regression.intercept_\n",
    "    return regression.predict(X)\n",
    "\n",
    "def scipyLasso(lamda, X, y) :\n",
    "    if lamda == None:\n",
    "        raise ValueError(\"No lambda value set for Lasso regression.\")\n",
    "    regression = linear_model.Lasso(fit_intercept=True, max_iter=100000, alpha=self.lambda_)\n",
    "    regression.fit(X,y)\n",
    "    beta = regression.coef_\n",
    "    beta[0] = regression.intercept_\n",
    "    return regression.predict(X)\n",
    "    \n",
    "def predict(X, beta):\n",
    "    return np.dot(X, beta)\n",
    "\n",
    "def getMSE(targets, predictions):\n",
    "     return metrics.mean_squared_error(targets, predictions)\n",
    "    \n",
    "def getR2(targets, predictions):\n",
    "     return metrics.r2_score(targets, predictions)"
   ]
  },
  {
   "cell_type": "code",
   "execution_count": null,
   "metadata": {
    "collapsed": true
   },
   "outputs": [],
   "source": [
    "# Design Matrix\n",
    "def CreateDesignMatrix_X(x, y, n = 5):\n",
    "    \"\"\"\n",
    "    Function for creating a design X-matrix with rows [1, x, y, x^2, xy, xy^2 , etc.]\n",
    "    Input is x and y mesh or raveled mesh, keyword agruments n is the degree of the polynomial you want to fit.\n",
    "    \"\"\"\n",
    "    if len(x.shape) > 1:\n",
    "        x = np.ravel(x)\n",
    "        y = np.ravel(y)\n",
    "\n",
    "    N = len(x)\n",
    "    l = int((n+1)*(n+2)/2)\n",
    "    X = np.ones((N,l))\n",
    "\n",
    "    for i in range(1,n+1):\n",
    "        q = int((i)*(i+1)/2)\n",
    "        for k in range(i+1):\n",
    "            X[:,q+k] = x**(i-k) * y**k\n",
    "\n",
    "    return X\n",
    "\n",
    "\n",
    "def computeMatrix(matrix, x, degree):\n",
    "    ind = 1\n",
    "    for i in range(1, degree+1):\n",
    "        for j in range(i+1):\n",
    "            matrix[:, ind] = x[:,0]**(i-j) * x[:,1]**j\n",
    "            ind += 1\n",
    "\n",
    "def getMatrixPolynom(self, x):\n",
    "    \"\"\"Computes the design matrix for a polynomial of a given combined degree\n",
    "    Computes the design matrix of 2D polynomial type with degree specified \n",
    "    in the input to the constructor. The first column contains unity, \n",
    "    the subsequent columns are evaluated as \n",
    "        ╭     ╮      ╭        ╮ \n",
    "        │  X  │ =  p │ x , y  │ \n",
    "        ╰   ij╯     j╰  i   i ╯ \n",
    "\n",
    "    with X being the design matrix and (x, y) being the 2D input data set. \n",
    "    The polynomial p is the j-th polynomial in the set of linearly \n",
    "    independent combined polynomials \n",
    "                   2    2         3    3    2        2    4    4\n",
    "        x ,  y ,  x ,  y , xy ,  x ,  y ,  x y ,  x y ,  x ,  y , ...\n",
    "    of combined total degree self.degree. There are n(n+3)/2 such \n",
    "    different monomials/polynomials in a set of degree n.\n",
    "\n",
    "    Paramters\n",
    "    ---------\n",
    "    x : numpy.array\n",
    "        The data set, a 2D numpy array, used for the construction of\n",
    "        the design matrix\n",
    "    \"\"\"\n",
    "    \"\"\"\n",
    "    # Degree 1\n",
    "    0:  lambda x,y : x,\n",
    "    1:  lambda x,y : y,\n",
    "    # Degree 2\n",
    "    2:  lambda x,y : x**2        ,\n",
    "    3:  lambda x,y : x    * y    ,\n",
    "    4:  lambda x,y :        y**2 ,\n",
    "    # Degree 3\n",
    "    5:  lambda x,y : x**3        ,\n",
    "    6:  lambda x,y : x**2 * y    ,   \n",
    "    7:  lambda x,y : x    * y**2 ,\n",
    "    8:  lambda x,y :        y**3 ,\n",
    "    \"\"\"\n",
    "    N = x.shape\n",
    "    N = N[0]\n",
    "\n",
    "    # The total number of polynomials up to and including combined \n",
    "    # total degree self.degree, i.e. 2, 5, 9, 14, 20, 27... . This\n",
    "    # is just the sum of the integers, \n",
    "    #\n",
    "    #     n+1         n (n + 3)\n",
    "    #      Σ   k   =  ─────────  =  P\n",
    "    #     k=2             2          n\n",
    "    #\n",
    "\n",
    "    P = int(degree*(degree+3)/2)\n",
    "\n",
    "    matrix = np.zeros(shape=(N, P+1))\n",
    "    matrix[:,0] = 1.0\n",
    "    computeMatrix(matrix, x, degree)"
   ]
  },
  {
   "cell_type": "code",
   "execution_count": null,
   "metadata": {
    "collapsed": true
   },
   "outputs": [],
   "source": [
    "# fit Linear Regression with x,y up to 5th order to it\n",
    "for degree in [2, 3, 4, 5]:\n",
    "    designMatrix = DesignMatrix('polynomial2D', degree)\n",
    "    leastSquares = LeastSquares(backend='manual')"
   ]
  },
  {
   "cell_type": "code",
   "execution_count": null,
   "metadata": {
    "collapsed": true
   },
   "outputs": [],
   "source": []
  },
  {
   "cell_type": "code",
   "execution_count": null,
   "metadata": {
    "collapsed": true
   },
   "outputs": [],
   "source": []
  },
  {
   "cell_type": "markdown",
   "metadata": {},
   "source": [
    "\n",
    "### Let's start with k-fold cross validation"
   ]
  },
  {
   "cell_type": "code",
   "execution_count": 1,
   "metadata": {},
   "outputs": [
    {
     "data": {
      "text/plain": [
       "<matplotlib.figure.Figure at 0x1d8a72cc550>"
      ]
     },
     "metadata": {},
     "output_type": "display_data"
    }
   ],
   "source": [
    "import numpy as np\n",
    "import matplotlib.pyplot as plt\n",
    "from sklearn.model_selection import KFold\n",
    "from sklearn.linear_model import Ridge\n",
    "from sklearn.model_selection import cross_val_score\n",
    "from sklearn.preprocessing import PolynomialFeatures\n",
    "\n",
    "# A seed just to ensure that the random numbers are the same for every run.\n",
    "# Useful for eventual debugging.\n",
    "np.random.seed(3155)\n",
    "\n",
    "# Generate the data.\n",
    "nsamples = 100\n",
    "x = np.random.randn(nsamples)\n",
    "y = 3*x**2 + np.random.randn(nsamples)\n",
    "\n",
    "## Cross-validation on Ridge regression using KFold only\n",
    "\n",
    "# Decide degree on polynomial to fit\n",
    "poly = PolynomialFeatures(degree = 6)\n",
    "# Decide which values of lambda to use\n",
    "nlambdas = 500\n",
    "lambdas = np.logspace(-3, 5, nlambdas)\n",
    "\n",
    "# Initialize a KFold instance\n",
    "k = 5\n",
    "kfold = KFold(n_splits = k)\n",
    "\n",
    "# Perform the cross-validation to estimate MSE\n",
    "scores_KFold = np.zeros((nlambdas, k))\n",
    "\n",
    "i = 0\n",
    "for lmb in lambdas:\n",
    "    ridge = Ridge(alpha = lmb)\n",
    "    j = 0\n",
    "    for train_inds, test_inds in kfold.split(x):\n",
    "        xtrain = x[train_inds]\n",
    "        ytrain = y[train_inds]\n",
    "\n",
    "        xtest = x[test_inds]\n",
    "        ytest = y[test_inds]\n",
    "\n",
    "        Xtrain = poly.fit_transform(xtrain[:, np.newaxis])\n",
    "        ridge.fit(Xtrain, ytrain[:, np.newaxis])\n",
    "\n",
    "        Xtest = poly.fit_transform(xtest[:, np.newaxis])\n",
    "        ypred = ridge.predict(Xtest)\n",
    "\n",
    "        scores_KFold[i,j] = np.sum((ypred - ytest[:, np.newaxis])**2)/np.size(ypred)\n",
    "\n",
    "        j += 1\n",
    "    i += 1\n",
    "\n",
    "\n",
    "estimated_mse_KFold = np.mean(scores_KFold, axis = 1)\n",
    "estimated_mse_sklearn = np.zeros(nlambdas)\n",
    "i = 0\n",
    "for lmb in lambdas:\n",
    "    ridge = Ridge(alpha = lmb)\n",
    "\n",
    "    X = poly.fit_transform(x[:, np.newaxis])\n",
    "    estimated_mse_folds = cross_val_score(ridge, X, y[:, np.newaxis], scoring='neg_mean_squared_error', cv=kfold)\n",
    "\n",
    "    # cross_val_score return an array containing the estimated negative mse for every fold.\n",
    "    # we have to the the mean of every array in order to get an estimate of the mse of the model\n",
    "    estimated_mse_sklearn[i] = np.mean(-estimated_mse_folds)\n",
    "\n",
    "    i += 1\n",
    "\n",
    "## Plot and compare the slightly different ways to perform cross-validation\n",
    "\n",
    "plt.figure()\n",
    "\n",
    "plt.plot(np.log10(lambdas), estimated_mse_sklearn, label = 'cross_val_score')\n",
    "plt.plot(np.log10(lambdas), estimated_mse_KFold, 'r--', label = 'KFold')\n",
    "\n",
    "plt.xlabel('log10(lambda)')\n",
    "plt.ylabel('mse')\n",
    "\n",
    "plt.legend()\n",
    "\n",
    "plt.show()"
   ]
  },
  {
   "cell_type": "code",
   "execution_count": 1,
   "metadata": {
    "collapsed": true
   },
   "outputs": [],
   "source": [
    "import os\n",
    "import numpy as np\n",
    "import pandas as pd\n",
    "\n",
    "# import visual libraries\n",
    "import matplotlib.pyplot as plt\n",
    "import seaborn as sns\n",
    "from mpl_toolkits.mplot3d import Axes3D \n",
    "plt.style.use('ggplot')\n",
    "\n",
    "# import the SKLearn palette\n",
    "from sklearn.svm import SVC\n",
    "from sklearn.externals import joblib\n",
    "from sklearn.decomposition import PCA\n",
    "from sklearn.preprocessing import normalize\n",
    "from sklearn.grid_search import GridSearchCV\n",
    "from sklearn.neural_network import MLPClassifier\n",
    "from sklearn.neighbors import KNeighborsClassifier\n",
    "from sklearn.ensemble import RandomForestClassifier\n",
    "from sklearn.model_selection import train_test_split\n",
    "from sklearn.metrics import mean_squared_error, r2_score, mean_absolute_error, confusion_matrix, accuracy_score"
   ]
  },
  {
   "cell_type": "code",
   "execution_count": null,
   "metadata": {
    "collapsed": true
   },
   "outputs": [],
   "source": [
    "# defining some variables that all algorihtms share\n",
    "cross_val = 10 # let's do a 10-fold cross validation for our hyperparameter search"
   ]
  },
  {
   "cell_type": "code",
   "execution_count": null,
   "metadata": {
    "collapsed": true
   },
   "outputs": [],
   "source": [
    "# read in the data and check the first entries\n",
    "pathToHappiness = os.getcwd() + '\\\\assignment1_data.csv'\n",
    "happinessDataFrame = pd.read_csv(pathToHappiness)\n",
    "happinessDataFrame.head()"
   ]
  },
  {
   "cell_type": "code",
   "execution_count": 7,
   "metadata": {},
   "outputs": [
    {
     "data": {
      "text/plain": [
       "'C:\\\\Users\\\\Lenny\\\\Documents\\\\Studium_Robotics (M.Sc.)\\\\Semester 3 - Oslo ERASMUS\\\\01_Applied Data Analysis and Machine Learning\\\\Project 1\\\\assignment1_data.csv'"
      ]
     },
     "execution_count": 7,
     "metadata": {},
     "output_type": "execute_result"
    }
   ],
   "source": [
    "# print the shape of the dataframe and check whether we have null values in our Happyness Df\n",
    "print(happinessDataFrame.shape)\n",
    "print(happinessDataFrame.isnull().any().sum())"
   ]
  },
  {
   "cell_type": "markdown",
   "metadata": {},
   "source": [
    "### Data Preprocessing\n",
    "\n",
    "In order to get a first glimpse of the data, I usually take a look at the distribution of the labels (True vs. False). <br />\n",
    "Here we can already see, whether we deal with an **imbalanced dataset**, which would lead to a really bad classification at the end, or whether we have approximately the same numbers for True and False labels which would be a balanced dataset. <br />\n",
    "Furthermore, we also have to check for any *NaN* values, which would also distort our classifier. <br /> \n",
    "\n",
    "Personally, I like making correlation plots to see how the features depend on one another which helps in the later steps to drop specific features in order to reduce the computation complexity. <br />\n",
    "\n",
    "Another important step is to convert any categorical value to numerical values, since the classifiers can't handle non-numeric data. This can be done by one-hot encoding or similiar techniques. <br /> \n",
    "\n",
    "Lastly, normalizing the data helps to deal with outliers better, since they will not weight that much anymore and in general we will have a conform input for each single feature into our classifier. <br />\n",
    "<br /> \n",
    "\n",
    "So, let's get our hands dirty and massage the data the way it loves it!"
   ]
  },
  {
   "cell_type": "code",
   "execution_count": null,
   "metadata": {
    "collapsed": true
   },
   "outputs": [],
   "source": [
    "# Now let's make a deep dive into our data and first check the labels to see with which kind of data we have to deal this time\n",
    "entireTransactions = happinessDataFrame.shape[0]\n",
    "disgustingFraudsters = happinessDataFrame[happinessDataFrame['Class'] == 1]\n",
    "sweetNonFraudsters = happinessDataFrame[happinessDataFrame['Class'] == 0]\n",
    "\n",
    "relativeFraudsters = len(disgustingFraudsters)/entireTransactions\n",
    "relativeNonFraudsters = len(sweetNonFraudsters)/entireTransactions\n",
    "\n",
    "# print the % value of Fraudsters vs. non Fraudsters to get a better feeling of our data at hand\n",
    "print('FRAUDSTERS: {}% vs. NON FRAUDSTERS: {}%'.format(relativeFraudsters*100, relativeNonFraudsters*100))\n",
    "\n",
    "# let's visualize our balance of fraudster vs non fraudsters\n",
    "labels = ['non-fraud','fraud']\n",
    "classes = pd.value_counts(happinessDataFrame['Class'], sort = True)\n",
    "classes.plot(kind = 'bar', rot=0)\n",
    "plt.title(\"Transaction class distribution\")\n",
    "plt.xticks(range(2), labels)\n",
    "plt.xlabel(\"Class\")\n",
    "plt.ylabel(\"Frequency\")"
   ]
  },
  {
   "cell_type": "code",
   "execution_count": null,
   "metadata": {
    "collapsed": true
   },
   "outputs": [],
   "source": [
    "# since we also have categorical data we have to convert it to numerical data\n",
    "# for this purpose I just use standard conversion techniques like one-hot encoding for the gender, ...\n",
    "\n"
   ]
  },
  {
   "cell_type": "code",
   "execution_count": null,
   "metadata": {
    "collapsed": true
   },
   "outputs": [],
   "source": [
    "# let's check how the features correlate with one another\n",
    "correlation_matrix = happinessDataFrame.corr()\n",
    "fig = plt.figure(figsize=(12,9))\n",
    "sns.heatmap(correlation_matrix,vmax=0.8,square = True)\n",
    "plt.show()"
   ]
  },
  {
   "cell_type": "markdown",
   "metadata": {},
   "source": [
    "### Correlation Plot\n",
    "\n",
    "based on our feature correlation plot we can see that not so many features correlaate with each other. Thus, dropping one feature would not affect any other one.\n",
    "Here, since the ID might lead to some unwanted bias and it does not correlate with any other feature I will drop this column to reduce the complexity of the data and have an unbiased, non discriminating predictor at the end"
   ]
  },
  {
   "cell_type": "code",
   "execution_count": null,
   "metadata": {
    "collapsed": true
   },
   "outputs": [],
   "source": [
    "# Next, since the dataset is highly unbiased we have to balance it by using the same amount of fraudsters vs. non-fraudsters\n",
    "# Let's shuffle the data before creating the subsamples\n",
    "df = happinessDataFrame.sample(frac=1)\n",
    "\n",
    "frauds = happinessDataFrame[happinessDataFrame['Class'] == 1]\n",
    "non_frauds = happinessDataFrame[happinessDataFrame['Class'] == 0][:len(frauds)]\n",
    "\n",
    "new_dataFrame = pd.concat([non_frauds, frauds])\n",
    "# Shuffle dataframe rows\n",
    "new_dataFrame = new_df.sample(frac=1, random_state=38)\n",
    "# Let's plot the Transaction class against the Frequency\n",
    "labels = ['non frauds','fraud']\n",
    "classes = pd.value_counts(new_dataFrame['Class'], sort = True)\n",
    "classes.plot(kind = 'bar', rot=0)\n",
    "plt.title(\"Transaction class distribution\")\n",
    "plt.xticks(range(2), labels)\n",
    "plt.xlabel(\"Class\")\n",
    "plt.ylabel(\"Frequency\")"
   ]
  },
  {
   "cell_type": "code",
   "execution_count": null,
   "metadata": {
    "collapsed": true
   },
   "outputs": [],
   "source": [
    "# Now let's drop the unnecessary features we don't want our classifier to utilize for its predictions\n",
    "features = new_dataFrame.drop(['Class'], axis = 1)\n",
    "features = features.drop(['ID'], axis = 1)\n",
    "labels = pd.DataFrame(new_dataFrame['Class'])\n",
    "\n",
    "feature_array = features.values\n",
    "label_array = labels.values"
   ]
  },
  {
   "cell_type": "code",
   "execution_count": null,
   "metadata": {
    "collapsed": true
   },
   "outputs": [],
   "source": [
    "# finally split our data into train (80%) and test (20%) datasets\n",
    "X_train, X_test, y_train, y_test = train_test_split(feature_array,label_array,test_size=0.20)\n",
    "\n",
    "# Normalize our data to handle outliers in a better way and have conform inputs over all features\n",
    "X_train = normalize(X_train)\n",
    "X_test = normalize(X_test)\n"
   ]
  },
  {
   "cell_type": "markdown",
   "metadata": {},
   "source": [
    "## K Nearest Neighbor (k-NN) as first approach\n",
    "\n",
    "[this link](https://scikit-learn.org/stable/modules/generated/sklearn.neighbors.KNeighborsClassifier.html) is going to the SK Learn kNN function with all its parameters."
   ]
  },
  {
   "cell_type": "code",
   "execution_count": null,
   "metadata": {
    "collapsed": true
   },
   "outputs": [],
   "source": [
    "# k nearest neighbor approach to ckeck the baseline <-- we want to beat this accuracy\n",
    "neighbours = np.arange(1,30) # evaluate up to 30 neighbors\n",
    "train_accuracy = np.empty(len(neighbours))\n",
    "test_accuracy = np.empty(len(neighbours))\n",
    "\n",
    "# evaluate the optimal number of k for our dataset\n",
    "for i,k in enumerate(neighbours):\n",
    "    #Setup a knn classifier with k neighbors\n",
    "    knn = KNeighborsClassifier(n_neighbors=k, algorithm=\"kd_tree\", n_jobs=-1)\n",
    "    \n",
    "    #Fit the model (.ravel() - function is flattening the array)\n",
    "    knn.fit(X_train,y_train.ravel())\n",
    "    \n",
    "    #Compute accuracy on the training and test set\n",
    "    train_accuracy[i] = knn.score(X_train, y_train.ravel())\n",
    "    test_accuracy[i] = knn.score(X_test, y_test.ravel())\n",
    "    \n",
    "# plot the different accuracies w.r.t. the amount of k-neighbors\n",
    "plt.title('k-NN Varying number of neighbors')\n",
    "plt.plot(neighbours, test_accuracy, label='Testing Accuracy')\n",
    "plt.plot(neighbours, train_accuracy, label='Training accuracy')\n",
    "plt.legend()\n",
    "plt.xlabel('Number of neighbors')\n",
    "plt.ylabel('Accuracy')\n",
    "plt.show()\n",
    "\n",
    "# select the maximum accuracy (of test dataset)\n",
    "idx = np.where(test_accuracy == max(test_accuracy))\n",
    "optimal_k = neighbours[idx]\n",
    "\n",
    "# fit the final k-NN classifier to our dataset\n",
    "knn = KNeighborsClassifier(n_neighbors=optimal_k, algorithm=\"kd_tree\", n_jobs=-1)\n",
    "knn.fit(X_train,y_train.ravel())\n",
    "\n",
    "# # save the model \n",
    "# filename = os.getcwd() + 'finalized_kNN_model.sav'\n",
    "# joblib.dump(knn, filename)\n",
    "\n",
    "# # load model again and predict\n",
    "# knn = joblib.load(filename)\n",
    "# knn_predicted_test_labels = knn.predict(X_test)\n",
    "\n",
    "# get the score\n",
    "knn_accuracy_score  = accuracy_score(y_test, knn_predicted_test_labels)\n",
    "knn_MSE             = mean_squared_error(y_test, knn_predicted_test_labels)\n",
    "knn_r2              = r2_score(y_test, knn_predicted_test_labels)\n",
    "\n",
    "print(\"Accuracy Score: {} \\nMean Squared Error: {} \\nR2 Score: {}\".format(knn_accuracy_score, knn_MSE, knn_r2))"
   ]
  },
  {
   "cell_type": "code",
   "execution_count": null,
   "metadata": {
    "collapsed": true
   },
   "outputs": [],
   "source": [
    "# confusion Matrix for visualizing the classification task\n",
    "LABELS = ['Non-Fraud', 'Fraud']\n",
    "conf_matrix = confusion_matrix(y_test, knn_predicted_test_labels)\n",
    "plt.figure(figsize=(12, 12))\n",
    "sns.heatmap(conf_matrix, xticklabels=LABELS, yticklabels=LABELS, annot=True, fmt=\"d\");\n",
    "plt.title(\"Confusion matrix\")\n",
    "plt.ylabel('True class')\n",
    "plt.xlabel('Predicted class')\n",
    "plt.show()"
   ]
  },
  {
   "cell_type": "markdown",
   "metadata": {},
   "source": [
    "## Support Vector Machines (SVM)\n",
    "\n",
    "[this link](https://scikit-learn.org/stable/modules/generated/sklearn.svm.SVC.html) is going to the SK Learn SVM function with all its parameters."
   ]
  },
  {
   "cell_type": "code",
   "execution_count": null,
   "metadata": {
    "collapsed": true
   },
   "outputs": [],
   "source": [
    "# evaluate the best soft margin model with different parameter settings\n",
    "param_grid = { \n",
    "    'C': np.logspace(-3, 2, 6),\n",
    "    'gamma': np.logspace(-3, 2, 6),\n",
    "    'kernel': ['rbf', 'linear', 'sigmoid']\n",
    "}\n",
    "# set up our SVM classifier\n",
    "svm_model = SVC(gamma='scale', c=c_range)\n",
    "\n",
    "# check for the optimal paramters using GridSearch\n",
    "parameterSearch_SVM = GridSearchCV(estimator=svm_model, param_grid=param_grid, refit=True, cv=cross_val)\n",
    "parameterSearch_SVM.fit(X_train, y_train) \n",
    "print(parameterSearch_SVM.best_params_)\n",
    "print('\\n')\n",
    "print(' ------------------------------------------------------------------------------------- ')\n",
    "\n",
    "# Since the GridSearchCV already stores the best parameters, we can straight predict with that model\n",
    "svm_predicted = parameterSearch_SVM.predict(X_test)\n",
    "\n",
    "# # save the model \n",
    "# filename = os.getcwd() + 'finalized_SVM_model.sav'\n",
    "# joblib.dump(parameterSearch_SVM, filename)\n",
    "\n",
    "# # load model again and predict\n",
    "# svm_model = joblib.load(filename)\n",
    "# svm_predicted = svm_model.predict(X_test)\n",
    "\n",
    "# get the score\n",
    "svm_accuracy_score  = accuracy_score(y_test, svm_predicted)\n",
    "svm_MSE             = mean_squared_error(y_test, svm_predicted)\n",
    "svm_r2              = r2_score(y_test, svm_predicted)\n",
    "\n",
    "print(\"Accuracy Score: {} \\nMean Squared Error: {} \\nR2 Score: {}\".format(svm_accuracy_score, svm_MSE, svm_r2))"
   ]
  },
  {
   "cell_type": "code",
   "execution_count": null,
   "metadata": {
    "collapsed": true
   },
   "outputs": [],
   "source": [
    "# confusion Matrix for visualizing the classification task\n",
    "LABELS = ['Non-Fraud', 'Fraud']\n",
    "conf_matrix = confusion_matrix(y_test, svm_predicted)\n",
    "plt.figure(figsize=(12, 12))\n",
    "sns.heatmap(conf_matrix, xticklabels=LABELS, yticklabels=LABELS, annot=True, fmt=\"d\");\n",
    "plt.title(\"Confusion matrix\")\n",
    "plt.ylabel('True class')\n",
    "plt.xlabel('Predicted class')\n",
    "plt.show()"
   ]
  },
  {
   "cell_type": "markdown",
   "metadata": {},
   "source": [
    "## Random Forests\n",
    "\n",
    "[this link](https://scikit-learn.org/stable/modules/generated/sklearn.ensemble.RandomForestClassifier.html) is going to the SK Learn Random Forest function with all its parameters."
   ]
  },
  {
   "cell_type": "code",
   "execution_count": null,
   "metadata": {
    "collapsed": true
   },
   "outputs": [],
   "source": [
    "# set up our Random Forest Classifier\n",
    "rfc_model = RandomForestClassifier(n_jobs=-1, max_features='sqrt', n_estimators=50, oob_score=True)\n",
    "param_grid = { \n",
    "    'n_estimators': [10, 30, 50, 100, 200, 400, 600, 800, 1000],\n",
    "    'max_features': ['auto', 'sqrt', 'log2'],\n",
    "    'max_depth': [3, 6, 10, 13, 15, 17, None],\n",
    "}\n",
    "# evaluate the best paramters for Random Forest\n",
    "parameterSearch_RFC = GridSearchCV(estimator=rfc_model, param_grid=param_grid, refit=True, cv=cross_val)\n",
    "parameterSearch_RFC.fit(X_train, y_train) \n",
    "print(parameterSearch_SVM.best_params_)\n",
    "print('\\n')\n",
    "print(' ------------------------------------------------------------------------------------- ')\n",
    "\n",
    "# predict the outputs for our test dataset\n",
    "randomForest_predicted = parameterSearch_RFC.predict(X_test)\n",
    "\n",
    "# get the score\n",
    "rfc_accuracy_score  = accuracy_score(y_test, randomForest_predicted)\n",
    "rfc_MSE             = mean_squared_error(y_test, randomForest_predicted)\n",
    "rfc_r2              = r2_score(y_test, randomForest_predicted)\n",
    "\n",
    "print(\"Accuracy Score: {} \\nMean Squared Error: {} \\nR2 Score: {}\".format(rfc_accuracy_score, rfc_MSE, rfc_r2))"
   ]
  },
  {
   "cell_type": "code",
   "execution_count": null,
   "metadata": {
    "collapsed": true
   },
   "outputs": [],
   "source": [
    "# confusion Matrix for visualizing the classification task\n",
    "LABELS = ['Non-Fraud', 'Fraud']\n",
    "conf_matrix = confusion_matrix(y_test, randomForest_predicted)\n",
    "plt.figure(figsize=(12, 12))\n",
    "sns.heatmap(conf_matrix, xticklabels=LABELS, yticklabels=LABELS, annot=True, fmt=\"d\");\n",
    "plt.title(\"Confusion matrix\")\n",
    "plt.ylabel('True class')\n",
    "plt.xlabel('Predicted class')\n",
    "plt.show()"
   ]
  },
  {
   "cell_type": "markdown",
   "metadata": {},
   "source": [
    "## Multi-Layered Perceptron (Neural Network)\n",
    "\n",
    "[this link](https://scikit-learn.org/stable/modules/generated/sklearn.neural_network.MLPClassifier.html) describes all the MLP Paramters in the SK Learn library"
   ]
  },
  {
   "cell_type": "code",
   "execution_count": null,
   "metadata": {
    "collapsed": true
   },
   "outputs": [],
   "source": [
    "# set up the parameters we want to test as well as the classifier itself\n",
    "parameters={\n",
    "'learning_rate': [\"constant\", \"invscaling\", \"adaptive\"],\n",
    "'hidden_layer_sizes': [(128, 256, 256, 64), (111, 168, 66), (122, 122), , (256, 512, 364, 168, 44), (123, 127, 55), (22, 33, 44, 22)],\n",
    "'alpha': [10.0 ** -np.arange(1, 7)],\n",
    "'activation': [\"logistic\", \"relu\", \"Tanh\"]\n",
    "}\n",
    "mlp_classifier = MLPClassifier(n_jobs=-1, max_features='sqrt', n_estimators=50, oob_score=True)\n",
    "\n",
    "# create the grid Search\n",
    "mlp = GridSearchCV(estimator=mlp_classifier, param_grid=parameters, n_jobs=-1, refit=True, cv=cross_val)\n",
    "mlp.fit(X_train, y_train) \n",
    "print(mlp.best_params_)\n",
    "print('\\n')\n",
    "print(' ------------------------------------------------------------------------------------- ')\n",
    "\n",
    "# predict the values of our test dataset\n",
    "mlp_predicted = mlp.predict(X_test)\n",
    "\n",
    "# get the score\n",
    "mlp_accuracy_score  = accuracy_score(y_test, mlp_predicted)\n",
    "mlp_MSE             = mean_squared_error(y_test, mlp_predicted)\n",
    "mlp_r2              = r2_score(y_test, mlp_predicted)\n",
    "\n",
    "print(\"Accuracy Score: {} \\nMean Squared Error: {} \\nR2 Score: {}\".format(mlp_accuracy_score, mlp_MSE, mlp_r2))\n"
   ]
  },
  {
   "cell_type": "code",
   "execution_count": null,
   "metadata": {
    "collapsed": true
   },
   "outputs": [],
   "source": [
    "# confusion Matrix for visualizing the classification task\n",
    "LABELS = ['Non-Fraud', 'Fraud']\n",
    "conf_matrix = confusion_matrix(y_test, mlp_predicted)\n",
    "plt.figure(figsize=(12, 12))\n",
    "sns.heatmap(conf_matrix, xticklabels=LABELS, yticklabels=LABELS, annot=True, fmt=\"d\");\n",
    "plt.title(\"Confusion matrix\")\n",
    "plt.ylabel('True class')\n",
    "plt.xlabel('Predicted class')\n",
    "plt.show()"
   ]
  },
  {
   "cell_type": "markdown",
   "metadata": {},
   "source": [
    "## Comparison of all tested Algorithms\n",
    "\n",
    "Now we have seen that each algorithm performs differently on the underlying dataset. \n",
    "In order to have it also more visually appealing, in the following chart we can see an overlay of each algorithm with its best tested Paramters on the Test set by using the Accuracy Score of each single algorithm. "
   ]
  },
  {
   "cell_type": "code",
   "execution_count": null,
   "metadata": {
    "collapsed": true
   },
   "outputs": [],
   "source": [
    "objects = ('Random Forest', 'SVM', 'k-NN', 'MLP')\n",
    "y_pos = np.arange(len(objects))\n",
    "performance = [rfc_accuracy_score, svm_accuracy_score, knn_accuracy_score, mlp_accuracy_score]\n",
    "\n",
    "plt.bar(y_pos, performance, align='center', alpha=0.5)\n",
    "plt.xticks(y_pos, objects)\n",
    "plt.ylabel('Accuracy')\n",
    "plt.title('Test Accuracy across the ' + str(len(objects)) + ' used algorithms')\n",
    "\n",
    "plt.show()"
   ]
  },
  {
   "cell_type": "markdown",
   "metadata": {},
   "source": [
    "## Analysis\n",
    "\n",
    "As shown in the previous section (**Code and Implementation**) we see that there have been some people who are at risk to not pay their debt in time. Thus, you can already send these people some help and offer some other duties they have to follow, etc. Here we only took a look at the data we have at hand (25 features) and neglect all the other (key) factors that could help us getting more insights about the persons' circumstances. <br />\n",
    "However, we compared three different kind of Machine Learning algorithms with each other and benchmarked each single one of them. <br />\n",
    "The overall plot tells us that Random Forests achieved better results than kNN or SVM, respectively. \n",
    "Since I have only limited computing power as well as time, I just used random variables for the Hyperparamter Search for all three Algorithms. <br />\n",
    "Keep in mind that it might be possible that SVM outperforms Random Forest with a different kind of Parameter Setting, but for our case we can definitely say that the Random Forest had the best accuracy with the testes Paramters. <br />\n",
    "On big problem with the dataset was is that it is unbalanced and we need to have balanced classes for each of the classification outputs otherwise our predictor will be biased (for further read on the impact on unbalanced datasets please check out [this thread](https://www.researchgate.net/post/Effect_of_imbalanced_data_on_machine_learning)) <br />\n",
    "For better Accuracy of the Credit Card dataset one could scrape the web to see where they made the transactions and derive valuable insights based on that. Basically adding more data and more features to our training and test set to have a better expressiveness of our algorithm and our predictions. \n",
    "\n",
    "*Dive into the Analysis and plots from the previous section --> Correlation of single features with each other...* "
   ]
  },
  {
   "cell_type": "markdown",
   "metadata": {},
   "source": [
    "## Conclusions\n",
    "\n",
    "We see that this dataset gives us already some really interesting facts and we can derive some nice predictions based on that. \n",
    "Now that we predicted some potential 'threats' in our customer base we can just directly approach these guys and try to help them out with offering them certain duties or suggesting different options for the credit card. \n",
    "Other ways to improve the accuracy of our system would be to either \n",
    "    1.) generate more data with more features\n",
    "    2.) apply state of the art artificial neural networks (deep learning) algorithms such as DenseNet, etc.\n",
    "If we go with 1.) we would need more time since every payment will be recorded and we would get more data based upon time. Another way to artifically generate more data would be by intelligently use other methods to renrich the feature space of our data. So instead of having 25 features we could augment it to 30 with additional features such as *usual shopping district*, *usual time of payments*, etc. \n",
    "\n",
    "The 2.) method suggests a modern approach of classification by modelling as good as possible to our training set and have predictions which usually outperform SVMs or Linear Regression methods for more complex datasets."
   ]
  },
  {
   "cell_type": "markdown",
   "metadata": {},
   "source": [
    "## References\n",
    "\n",
    "[1] EarthExplorer website: https://earthexplorer.usgs.gov/, Used Dataset: Norway, last visited 05.09.2019 <br />\n",
    "[2] Bishop, C.M. (2011). *Pattern Recognition and Machine Learning*. Cambridge: Springer. <br />\n",
    "[3] Duda, R. O. (2007). *Pattern Classification*. San Jose: Wiley. <br />\n",
    "[4] Murphy, K. P. (2007). *Machine Learning: A probabilistic Perspective*. Camebridge: MIT Press. <br />"
   ]
  },
  {
   "cell_type": "code",
   "execution_count": null,
   "metadata": {
    "collapsed": true
   },
   "outputs": [],
   "source": []
  },
  {
   "cell_type": "code",
   "execution_count": null,
   "metadata": {
    "collapsed": true
   },
   "outputs": [],
   "source": []
  }
 ],
 "metadata": {
  "kernelspec": {
   "display_name": "Python 3",
   "language": "python",
   "name": "python3"
  },
  "language_info": {
   "codemirror_mode": {
    "name": "ipython",
    "version": 3
   },
   "file_extension": ".py",
   "mimetype": "text/x-python",
   "name": "python",
   "nbconvert_exporter": "python",
   "pygments_lexer": "ipython3",
   "version": "3.6.4"
  }
 },
 "nbformat": 4,
 "nbformat_minor": 2
}
